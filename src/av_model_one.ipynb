{
  "cells": [
    {
      "cell_type": "markdown",
      "metadata": {
        "id": "view-in-github",
        "colab_type": "text"
      },
      "source": [
        "<a href=\"https://colab.research.google.com/github/elliot-brooks/nlu-coursework/blob/main/src/av_model_one.ipynb\" target=\"_parent\"><img src=\"https://colab.research.google.com/assets/colab-badge.svg\" alt=\"Open In Colab\"/></a>"
      ]
    },
    {
      "cell_type": "markdown",
      "metadata": {
        "id": "YX1sFbdQgv_W"
      },
      "source": [
        "# Setup"
      ]
    },
    {
      "cell_type": "code",
      "execution_count": 80,
      "metadata": {
        "id": "gwaoFym8guws",
        "outputId": "37fd4311-a3ba-4d43-d17d-f818ffe52b2b",
        "colab": {
          "base_uri": "https://localhost:8080/"
        }
      },
      "outputs": [
        {
          "output_type": "stream",
          "name": "stderr",
          "text": [
            "[nltk_data] Downloading package punkt to /root/nltk_data...\n",
            "[nltk_data]   Unzipping tokenizers/punkt.zip.\n"
          ]
        }
      ],
      "source": [
        "from tensorflow.keras.preprocessing.text import Tokenizer\n",
        "from nltk.tokenize import word_tokenize\n",
        "import numpy as np\n",
        "import pandas as pd\n",
        "import nltk\n",
        "import re\n",
        "\n",
        "nltk.download('punkt')\n",
        "\n",
        "FIRST_PAIR = 0\n",
        "SECOND_PAIR = 1"
      ]
    },
    {
      "cell_type": "markdown",
      "metadata": {
        "id": "vd7312r4g-Fs"
      },
      "source": [
        "# Load training data"
      ]
    },
    {
      "cell_type": "code",
      "execution_count": 86,
      "metadata": {
        "id": "pvOX2Y9chCJ6"
      },
      "outputs": [],
      "source": [
        "training_corpus = pd.read_csv(\"train.csv\", encoding='utf-8')\n",
        "# pairwise_labels = np.array(training_corpus['label'])\n",
        "# pairwise_data = np.array(training_corpus[['text_1', 'text_2']])"
      ]
    },
    {
      "cell_type": "markdown",
      "metadata": {
        "id": "-h7JHjvThCjX"
      },
      "source": [
        "# Pre-process training data"
      ]
    },
    {
      "cell_type": "code",
      "execution_count": 90,
      "metadata": {
        "id": "tQCBFdCvhUit",
        "outputId": "2b4fd2d4-162e-4ebc-cbde-828f588fbb56",
        "colab": {
          "base_uri": "https://localhost:8080/"
        }
      },
      "outputs": [
        {
          "output_type": "stream",
          "name": "stdout",
          "text": [
            "[\"nick ( kevin anderson ) goes back to his hometown to take care of his dying mother ( kim novak ) . there he encounters an old college buddy ( bill pullman ) and his beautiful wife ( pamela gidley ) . he also gets involved with a 40 year old sex murder that may have something to do with him . . . i caught this in a theatre back in 1991 . it was part of the boston film festival and i had heard it had some incredibly beautiful cinematography . well - - it does . it just does n't have much of a story to go with it . also the film moves so slowly - - i literally fell asleep ! seeing it again 14 years later , i fell asleep again ! this film is dull and slow . it 's one of those art films full of strange characters who act oddly and mutter obscure dialogue ( especially the police\", \"kate nelligan , always a forthright and gripping actress , gets to show many different sides as a single mother in new york city whose little boy disappears one day while walking a short distance to school ; she clashes with authorities and friends , but is convinced her child has been kidnapped and is still alive . these type of human dramas are all pretty much the same , but if the extremities pull you in , they are undeniably absorbing . there 's a horribly facetious sub-plot about a homosexual suspect ( who seems to be rendered guilty by virtue of his fetishes ) , but nelligan gives the familiar theme her class and ladylike vigor , making it fresher than most , and she 's helped by other good actors like judd hirsch , stockard channing and david dukes . the film is ultimately hurt by its clichés ( especially when dealing second-handedly with police lieutenant hirsch 's family life ) ; and as for the climax , it 'll either strike you\", 'patrick , please , contact zimin lu , 713 853 6388 . vince patrick markey 11/21/2000 05:15 am to : vince j kaminski/hou/ect @ ect cc : patrick markey/hou/ect @ ect subject : enron exotica options library vince , i am trying to price a crack spread option utilizing either of the following models in the exotica library : 1 . spread options by 1-d integration - sprdopt 2 . spread options on asian spreads - asnsprd how do i get access to these options models ? who can i visit with in the houston group if i have any questions regarding the models . your help would be greatly appreciated . i am located in singapore , so i would probably be visiting with the houston personnel via e-mail . thanks , pat markey p.s . - i have access to the o : \\\\research\\\\exotica\\\\xll\\\\xll_templates\\\\ directory ; however , there are no macros associated with the programs that', \"wow , ok so my mom was saying how when she gets the tv she 's going to watch all these movies she 's been wanting too and like midsentence my sister goes * extremely whiny voice * 'but i wanted to watch mary poppins ! ' and i got 'gio ! jesus ! ' and my mom flips out on me 'no , do n't say that allie ' i 'm like 'wow ma , i think you need a can of settle down '\", \"flat broke again , stan borrows from ' basher ' , who works at the depot . basher wants his money back within a few days else he will show stan how he earned the nickname . stan wonders how to repay him . salvation comes in the shape of iris , whose mother is moving house . stan and jack agree to convey her furniture in their bus . stopping off at a bookies to have a flutter , they are horrified to find the bus gone when they leave . . . messrs . wolfe and chesney contributed not one script to the sixth season of ' on the buses ' . they were probably too busy with ' romany jones ' , their other hit sitcom of the early ' 70 's . thanks to writers such as bob grant , stephen lewis , george layton and jonathan lynn , their absence was not as serious as it might have\", \"yes , this is another sports biography that offers a stage on which to play out the drama of the possibilities of dreams of the disenfranchised to become a reality . there are many , many films like this one and will doubtless be more : something there is about the ' team spirit ' in the identity crisis of whether or not the poor ( financially ) new guy will be able to make the physical grade that draws large audiences . it is a formula and it often works despite weak structure and production values . in the case of goal ! the dream begins the viewer can put aside the doubts as to whether the film can make it on its own : this\", 'fred , sounds `` do able `` . please contemplate what would be acceptable as `` outs `` for them and for us . a , lso , will you be getting rac involved soon since we are contemplating a binding agreement in the near future ? my best guess is that the loi will be prepared in house , but i will discuss this with carlos , and we will advise k & s of their role . thanks , kay fred mitro @ ect 02/12/2001 01:48 pm to : kay mann/corp/enron @ enron cc : rusty stevens/corp/enron @ enron , scott healy/sf/ect @ ect , ben jacoby/hou/ect @ ect subject : pseg request kay : i talked with pseg this morning . pseg would like to negotiate and sign a binding loi regarding the kendall project site in illinois prior to negotiating and executing the definitive spa . the specifics of this loi are : pseg would pay an up-front $ 300,000 payment to ena this payment would be non-refundable unless pseg discovered a `` fatal flaw `` in the project ( we will have to carefully define this concept ) the binding loi would establish a date by which the spa would be executed or pseg would forfeit the up-front payment the', \"our protagonist chris has a big problem . since he drove without headlights one evening , he was involved in a major accident that crippled a beautiful girl in the passenger 's seat and killed two innocent victims sitting in the rear . that was 4 years ago . amazingly , christopher was not imprisoned for this one . there should have been a movie regarding why for that reason alone . now , that it 's 4 years later , chris has met up with a motley crew who is plotting a bank robbery . he works for a bank and has ambitions to go further . he joins the thieves and then turns on them . the picture may be described as being dull . chris takes notes and his writings are like those of a 2nd grader . the one good thing about this film is the performance by his blind friend , well played by jeff daniels . i have always thought of daniels as a superior\", \"this movie is a factually based , and done in a way of a real life documentary . my friend tony told me about the book , and its pretty close to the movie . there is a mention ( very lightly ) about not having heavy armor , from what tony told me because it would look bad on cnn , and if i remember right this event cost bill clinton about 17 points in the polls , he would have lost the election if it was called right away . i do n't think cnn will affect foreign policy again , when they called for the us to help out a country , and bush being ex cia chief just wanted to convoy some food and get the hell out . this movie shows why . it 's not a action movie i would call it more of a\", \"do you mean an ena sale to keyspan ? from : joann collins @ enron 01/22/2000 04:25 pm to : chris germany/hou/ect @ ect , victor lamadrid/hou/ect @ ect cc : subject : missing dealtickets in sitara chris , besides the dealticket i mention below , another one is missing . keyspan on 1/14/00 for 900dth to coh7-1 ? ? ? thanks joann -- -- -- -- -- -- -- -- -- -- -- forwarded by joann collins/corp/enron on 01/22/2000 04:23 pm -- -- -- -- -- -- -- -- -- -- -- -- -- - enron north america corp. from : joann collins 01/22/2000 03:39 pm to : chris germany/hou/ect @ ect cc : subject : re : xtra gas bought @ coh chris , i can not find this dealticket in sitara ? ? ? ? ? ? which means i can not path please look at the `` highlighted red `` below . thanks joann -- -- -- -- -- -- -- -- -- -- -- forwarded by joann collins/corp/enron on 01/22/2000 03:37 pm -- -- -- -- -- -- -- -- -- -- -- -- -- - enron north america corp. from : joann collins 01/18/2000 10:46 am to : kdestep @ columbiaenergygroup.com cc : subject : re : xtra gas bought @ coh for 1/19 only : k38021 now=14163 kdestep @ columbiaenergygroup.com on 01/18/2000 09:31:33 am to : joann collins/corp/enron @ enron cc : subject : re : xtra gas bought @ coh that 's when the deal was done apparently . i do n't care when i get the gas as\", 'the last 800 words about grades ( for now ) with a year of grades in hand ( not literally in hand im working from memory here ) , the sample size is clearly large enough that i can draw some conclusions : 1 . i do better in classes with the smaller red casebooks than the bigger brown casebooks . next step is to check which casebooks my scheduled 2l classes are using and add/drop accordingly . 2 . i do about the same in classes where the professor wrote the casebook as in classes where the professor did not read the casebook . 3 . my pass/fail first-year lawyering grades have no correlation with any other grades , except that the letter p sort of looks like the letter b if you hide one of the lumps of the b . 4 . to best', \"if you are interested in the way the navy crew operates under the ocean floors , you will love this great navy story about how the u . s . navy was able to out wit the enemy which was japan during wwii and all the tricks of the trade that were utilized under the very depths of the pacific ocean . the photography was great for a 1958 film and glenn ford ( lt . cmdr . barney doyle ) , `` pocket full of miracles `` , ' 61 , gave a great performance along with some mental blocks that was interfering with his command of his submarine . however , ernest borgnine ( lt . archer sloan ) , `` marty `` , ' 55 , was a loyal officer to barney and turned down his own commission as commander to assist barney in his hopes to destroy a flat top ( aircraft carrier ) of the japanese navy . there was a very interesting scene where the submarine\", 'fyi vince -- -- -- -- -- -- -- -- -- -- -- forwarded by vince j kaminski/hou/ect on 04/19/2001 10:27 am -- -- -- -- -- -- -- -- -- -- -- -- -- - edward kao < ekao @ uh.edu > on 04/18/2001 01:55:37 pm to : vkamins @ ect.enron.com cc : subject : re : test dear vince : the email address of candice is cgkao @ mtholyoke.edu i will email you her phone number at mount holyoke this evening . regards ed on wed , 18 apr 2001 vkamins @ ect.enron.com wrote : > test > > vince > >', \"if you are ever looking for excellent tv spoilers , check out the urllink watch with wanda transcripts . her urllink weekly column is also good , but remember , they 're spoilers !\", \"'carpe diem ' , says dead poet society . i 've never seen it , abby 's told me about it tho ... i 'm always using it in reference to the horrible metallica song of the same name , or the line of the sentenced song neverlasting . sentenced is a great band , all , in case anyone is looking for a great band ... for some reason . gross , sharing is dumb . do n't give in ! complete thoughts ! w00t ! abby 's right , i just noticed ... i wonder why it took this long . it 's amazing , congrats for passing the third grade rosie .\", \"doomed by a double-crossing sorceress to spend eternity in suspended animation , china 's ruthless dragon emperor and his 10 , 000 warriors have lain forgotten for eons , entombed in clay as a vast , silent terra cotta army . but when dashing adventurer alex o'connell is tricked into awakening the ruler from eternal slumber , the reckless young archaeologist must seek the help of the only people who know more than he does about taking down the undead : his parents . as the monarch roars back to life , our heroes find his quest for world domination has only intensified over the millennia . striding the far east with unimaginable supernatural powers , the emperor mummy will rouse his legion as an unstoppable , otherworldly force . . . unless the o'connells can stop him first . . . frasers foray back into a-list stardom continues here , and then crashes and burns in a spectacular way . okay the first two\", \"hey -- you 're talking about our future president ! i am soooo looking forward to my next biennial resource planning proceeding . -- -- -- -- -- -- -- -- -- -- -- forwarded by steven j kean/hou/ees on 08/03/2000 07:03 pm -- -- -- -- -- -- -- -- -- -- -- -- -- - richard shapiro 08/02/2000 10:55 am to : steven j kean/hou/ees @ ees cc : subject : slashing price caps -- -- -- -- -- -- -- -- -- -- -- forwarded by richard shapiro/hou/ees on 08/02/2000 10:55 am -- -- -- -- -- -- -- -- -- -- -- -- -- - `` foster , gary `` < gfoster @ antigenics.com > on 08/02/2000 09:39:50 am to : `` jeff dasovich ( e-mail ) `` < jdasovic @ enron.com > , `` sue mara ( e-mail ) `` < smara @ enron.com > , `` 'mona.petrochko @ enron.com ' `` < mona.petrochko @ enron.com > cc : `` 'richard.shapiro @ enron.com ' `` < richard.shapiro @ enron.com > subject : slashing price caps i 'm so glad that our guy , grey davis , was elected so that he can un-do what little advancement was made in that horrible idea of letting markets work .\", \"ok , so why has lacy 's disappearance disappeared from the news ........ this poor pregnant california woman is still missing , and i am still convinced that her husband did her in for the insurance ..... the space shuttle disaster has bumped this story way down ..... hopefully the police in california are still on the case .....\", \"please email me a brief overview of what these documents are , how they fit into the overall picture , and the issues which need the most scrutiny . additionally , have these been evaluated in light of enron 's balance sheet and financing issues ? thanks , kay\", \"lets talk about this -- you or i probably have the most to add in a group like this , but lee may be the right choice because she is in houston . thanks . df -- -- -- -- -- -- -- -- -- -- -- forwarded by drew fossum/et & s/enron on 01/04/2000 11:52 am -- -- -- -- -- -- -- -- -- -- -- -- -- - harry kingerski @ ees 01/04/2000 09:25 am to : drew fossum/et & s/enron @ enron cc : subject : introduction drew - i talked to mike moran this morning and he suggested you for participation in this corporate working group ( see below ) . very glad to have you . other group members are from various parts of public affairs , both u.s. and international . mike also said you may want to have maria pavlou participate , which i leave up to you . the perspective from the pipeline group will be a great addition to our effort . please see the note below and respond at your earliest convenience . thanks very much . -- -- -- -- -- -- -- -- -- -- -- forwarded by harry kingerski/hou/ees on 01/04/2000 09:18 am -- -- -- -- -- -- -- -- -- -- -- -- -- - harry kingerski 12/29/99 11:20 am sent by : judy pearson to : rates and tariffs working group cc : steven j kean/hou/ees @ ees subject : introduction one of steve kean 's newly formed\", \"stan and jack plan a naughty night in with two sexy clippies whilst mum , arthur and olive are at aunt maud 's . there 's just one snag - arthur 's motorbike is in urgent need of repair . in desperation , stan smuggles into the depot the bracket used to hold the bike to the sidecar so that jack can perform an impromptu welding job . but will the bracket hold ? ' on the buses ' kicked off its fourth season with this amiable episode . by now the cast were well acquainted with their characters and viewers knew just what to expect . as a result of its success , the cast were invited onto other shows ; for instance , anna karen appeared as ' olive ' on ' the max bygraves show ' , while stephen lewis ' ' blakey ' ( rather improbably ) sang\", \"quick question to joe and/or christian , john and mary : i 'm assuming that any deal we sign with dwr that falls below the $ 150/mwh soft cap is free and clear of the order ferc issued on friday as well as any other refund risk associated with ferc 's december order . is that correct ? thanks . best , jeff\", \"if there 's one thing mr . imperium has going for it , it 's the delight of hearing ezio pinza 's strong bass do justice to a few pleasant songs , most of which he sings while serenading lana turner , who 's principal job in this one is to stand around and look beautiful while pinza 's voice takes over the soundtrack with gusto . other than that , it 's a fanciful story that 's been used hundreds of times before - - a commoner ( lana ) falls in love with a prince ( pinza ) and their on again / off again romance ends with a bittersweet decision on his part to return to his kingdom when it needs him . that 's about it for a storyline - - and along the way mgm gave the stars a supporting cast that includes barry sullivan , sir cedric hardwicke , marjorie main and debbie reynolds , all of whom have very little to do . it 's\", \"an our gang comedy short . while playing in the train yard , fat joe cobb , farina & the gang go railroadin ' in a runaway train , which none of them knows how to stop . . . a funny little early talkie . due to its age , some of the dialogue is difficult to hear . highlight : farina on the tracks . fat joe & chubby are so obese it 's painful to watch them .\", 'i went to tescos today , in the pooring rain and the freezing cold . katie i have to agree with u about msn . i have about 15 contacts and none of them r ever online . ho hum tweedle dee . please can the admin lady add my home page 2 the list of homepages . it is : www.uboot.com/u/smile4mexx ta', \"after seeing this film for the second time , i have to wonder what i found so funny about it the first time ( since i did actually make it a mental note to watch it again ) . maybe it 's because i watched it with a friend . maybe we were in such good moods that we were willing to take anything . maybe we just both really hated scary movie and all the positive ( which was , in our shared opinion , powerfully undeserved ) talk about it . i do n't know what it was , but somehow , i laughed all the way through the film when i first saw it . this time , i barely chuckled . maybe i remembered all the jokes or maybe i just was n't in the mood . . . but most likely , the film just is n't particularly good . it seems disjointed , thrown together from randomly filmed scenes . the plot is not original\", \"timothy spall , one of britains best currently working character actors ( he can be seen in films varied between harry potter and the sheltering sky ) , is probably one of the only outstanding reasons to see pierrepoint : the last hangman , and probably not until it likely will air on pbs some weekday night . it 's not a poorly made film , for the most part ( with the exception of one dream scene set in a field with a scarecrow , which is a revolting taste of schlock surrealism , it 's got believable production values ) , but it 's mainly in the script that it falters the most . we 're given as juicy a subject as one could hope for - capital punishment in britain in the late 40s and early 50s , with pierrepoint ( spall ) as the best in the not-quite profitable business . after getting some acclaim from\", 'is that weather.com thing on the right too big for my page ? opinions , please .', \"here 's another of those ' million dollar movies ' that i would watch when it was shown every night for a week back when i was a kid growing up in the fifties . of course then , the only way to see it was in black and white , so to catch it in color today for the first time was a nice treat . for a kid , i guess you could say that the stars of the picture were the seven foy siblings , but of course it was bob hope who brought the picture to life as talented song and dance man eddie foy . it 's quite a unique story , at times heartbreaking and sentimental , but rising to the occasion with family warmth and solidarity when the situation requires it . the family act notwithstanding , one of the standout\", 'email works good . do you know which deal i should put that on ? -- -- -- -- -- -- -- -- -- -- -- forwarded by chris germany/hou/ect on 01/12/2000 06:57 pm -- -- -- -- -- -- -- -- -- -- -- -- -- - gloria g barkowsky 01/12/2000 04:27 pm to : chris germany/hou/ect @ ect cc : subject : cng/sabine 12/99 hi ! remember last month changing the rate in sitara so the discounts could be taken .... well , i need it done for 12/99 now . the total volumes for cng/sabine for 12/99 are 7,676,198 and we should be paying $ 13,298.60 for at rate of .00172794 . let me know if you need more information , or copies , or whatever . and does emailing this work ok , or what would work best to update this every month ? let me know . thanks , gloria . how are you ?']\n"
          ]
        }
      ],
      "source": [
        "def preprocess(string):\n",
        "  string = str(string)\n",
        "  tokens = word_tokenize(string)\n",
        "  tokens = [token.lower() for token in tokens]\n",
        "  output = ' '.join(tokens)\n",
        "  #   separated_string = re.sub(r'([^\\w\\s])', r' \\1 ', str(string))\n",
        "  return output\n",
        "\n",
        "training_corpus[\"text_1\"] = training_corpus[\"text_1\"].apply(lambda x: preprocess(x))\n",
        "training_corpus[\"text_2\"] = training_corpus[\"text_2\"].apply(lambda x: preprocess(x))\n",
        "\n",
        "pairwise_labels = np.array(training_corpus['label'])\n",
        "# Trying to get to work for 1 text (needs updating for 2)\n",
        "pairwise_data = training_corpus['text_1'].values.tolist()"
      ]
    },
    {
      "cell_type": "code",
      "source": [
        "tk = Tokenizer(filters='/t/n', oov_token='UNK', lower=True)\n",
        "tk.fit_on_texts(pairwise_data)"
      ],
      "metadata": {
        "id": "XuXM4C5UE2tW"
      },
      "execution_count": 106,
      "outputs": []
    },
    {
      "cell_type": "code",
      "source": [
        "print(len(tk.word_index))\n",
        "if 'a' in tk.word_index:\n",
        "  print(\"True\")\n",
        "print(list(tk.word_index.keys())[100:1000])\n",
        "print(pairwise_data[0])"
      ],
      "metadata": {
        "id": "GKtKFc3J5Wl6",
        "outputId": "62285f3c-6815-493e-8925-3414c01cc1ce",
        "colab": {
          "base_uri": "https://localhost:8080/"
        }
      },
      "execution_count": 113,
      "outputs": [
        {
          "output_type": "stream",
          "name": "stdout",
          "text": [
            "64033\n",
            "True\n",
            "['eve', 'da', 'would', 'ime', ';', 'good', 're', 'vi', 'lo', 'see', 'ar', 'she', 'la', 'more', 'which', 'mo', 'si', 'wo', '...', 'corp', 'very', '&', 'had', \"'m\", 'de', 'gs', 'ew', 'please', 'forwarded', 'kay', 'ks', 'bee', 'heir', 'well', 'urlli', 'hough', 'oo', 'ds', 'really', 'ory', 'par', 'did', 'also', 'him', 'our', 'ch', 'ever', 'fu', 'ees', 'day', 'af', 'cha', 'how', 'were', 'firs', 'hem', 'does', 'di', 'ers', 'mi', 'j', 'joh', '$', 'much', 'ki', 'direc', 'grea', 'ai', 'people', 'could', 'ex', 'mos', 'ive', 'way', 'us', 'ski', 'ure', '=20', 'because', 'make', 'back', 'goi', 'sa', 'work', 'ake', 'ic', '2', '01', 'should', 'ill', 'chris', \"'ve\", 'ely', 'bo', 'may', 'over', 'bes', 'ces', 'hese', 'las', 'ies', 'igh', 'able', 'ess', 'dow', 'ey', 'where', 'eed', 'ur', 'fa', 'off', \"'ll\", 'bei', 'while', 'eres', 'ry', 'mee', 'america', 'charac', 'made', 'ci', '12', 'c', 'ia', 'oday', 'agai', 'der', 'kami', 'old', 'call', 'op', 'give', '10', '_developme', 'agreeme', 'age', 'love', 'e-mail', 'ba', 'jeff', 'cou', 'ho', 'pa', 'pla', 'ice', 'before', 'ka', 'bad', 'ally', 'ype', 'pu', 'look', 'ie', 'righ', 'life', 'mea', '1', 'pe', '11', 'every', 'ru', \"'re\", 'say', 'cer', 'hrough', 'wri', 'pho', 'fou', 'pre', '4', 'jo', '03', 'hose', 'car', '04', 'sce', 'ame', 'xga', 'ually', 'fra', 'bi', 'p', 'rac', 'films', 'show', 'years', 'frie', 'ques', 'come', 'sou', 'deal', 'poi', '02', 'commu', 'ded', 'ica', 'shor', 'yes', 'why', 'sara', 'movies', 'perso', 'lis', 'schedule', 'group', 'few', 'same', 'week', 'arou', 'qui', 'home', 'ough', 'year', 'forma', 'chi', 'origi', 'sure', 'help', 'ger', 'hous', '3', 'big', 'pos', 'such', 'ja', 'plo', 'power', '05', 'mark', 'ached', 'om', 'ke', 'message', 'imes', 'ergy', 'ors', 'cas', 'rober', 'world', 'fac', 'sig', 'bri', 'comme', 'david', 'however', 'migh', 'alo', 'hour', 'always', 'said', 'job', '09', 'war', 'marke', 'prese', 'ope', 'busi', 'compa', 'school', 'crea', 've', 'house', 'dis', 'repor', 'respo', 'havi', 'place', 'seems', 'dy', 'ee', 'ei', 'gi', 'ders', '07', '08', 'happe', 'gra', 'ell', 'each', 'ok', 'mus', 'mas', 'begi', 'corp.', 'everyo', 'probably', 'docume', 'cy', 'sco', 'course', 'side', 'rai', 'differe', 'hree', 'ear', 'smi', 'performa', 'real', 'il', 'produc', 'wee', 'ree', 'mor', 'varia', 'friday', 'ary', 'makes', 'b', 'ye', 'read', 'expec', 'duri', 'ures', 'ryi', 'su', 'versio', 'less', 'reques', 'el', 'feel', 'fax', 'wes', 'family', 'use', 'woma', 'hope', 'ech', 'michael', 'reaso', 'horror', 'era', 'followi', '=', 'looki', 'wro', 'hear', 'hers', 'someo', \"'d\", 'james', 'leas', 'far', '....', 'l', 'hu', 'v', 'au', 'paul', 'days', 'effec', 'guy', 'soo', 'hy', 'pic', 'mar', 'shackle', 'else', 'worki', 'credi', '5', 'seco', 'por', 'rela', 'early', 'umber', 'ial', 'play', 'res', '06', '#', 'yo', 'doi', 'kea', 'oge', 'away', 'dea', 'comple', 'goes', 'form', 'forward', 'series', 'oh', 'akes', 'omorrow', 'maybe', 'saw', 'plays', 'ga', 'hard', 'uff', 'scree', 'role', 'keep', 'ges', 'fea', 'lef', 'girl', 'comedy', 'whi', 'elec', 'ails', 'called', 'office', '15', 'case', 'm', 'couple', '20', 'projec', 'alk', 'played', 'ews', 'ale', 'mai', 'almos', 'happy', 'mike', 'wife', 'draf', 'bro', 'hea', 'email', 'w', 'germa', 'wor', 'order', 'kay.ma', 'dasovich', 'gly', 'eam', 'bill', 'review', 'ima', 'mary', 'emp', 'cu', 'exas', 'book', 'guys', 'comes', 'looks', 'richard', 'mome', 'x', 'yway', 'already', 'ched', 'wai', 'legal', 'believe', 'ages', 'gas', 'opera', 'r', 'sis', 'beau', 'em', 'idea', 'execu', '30', '13', 'comi', 'sys', 'lu', 'suppor', 'check', 'ju', 'po', '16', '25', 'ude', 'ical', 'game', 'problem', 'radi', 'ri', 'curre', 'file', 'maki', 'pri', 'fere', 'cos', 'guess', 'sor', 'works', 'spe', 'ea', 'used', 'eric', 'high', 'blog', 'ged', 'music', 'based', '[', '24', 'came', ']', 'depar', 'whole', '18', 'remember', 'sorry', 'ruc', 'free', 'price', 'ish', 'pas', 'mail', 'special', 'black', 'pi', 'small', 'himself', 'rece', '27', 'wed', 'copy', 'ergy.com', 'joi', 'firm', 'ead', 'gle', 'seei', 'shows', 'scheduled', 'pdx', 'aki', 'cool', '14', 'especially', 'ya', 'los', 'ago', '19', 'impor', '23', 'im', 'head', 'califor', 'live', 'vic', 'scrip', 'z', 'room', 'several', 'law', 'heard', 'dead', 'susa', 'george', '6', 'received', 'available', 'visi', 'figh', 'hs', 'ligh', 'ual', 'je', 'drew', 'risk', '17', 'joe', 'become', 'f', 'defi', 'ery', 'addi', 'lee', 'kare', 'william', '22', 'ema', 'posi', 'deals', 'upda', 'esday', 'below', 'sho', 'eral', 'ask', 'huma', 'excep', 'rick', 'mys', 'services', 'fo', 'hursday', 'iful', 'lear', 'sea', 'boy', 'ced', '21', 'bob', '=01', 'resul', 'asked', 'issues', 'excelle', 'erday', 'icipa', 'va', 'edi', 'weeke', 'eb', 'accou', 'rue', 'sac', 'full', 'jack', 'four', 'cap', 'orga', 'amed', 'care', 'gover', 'cludi', 'preside', 'erpar', 'playi', 'myself', 'global', 'half', 'ire', 'perfec', 'perhaps', 'ageme', 'ermi', 'daugh', '7', 'april', 'close', 'doc', 'scie', 'god', 'admi', 'gree', 'aylor', '1400', 'sally', 'mr', 'ribu', 'aol.com', 'alki', 'yeah', 'hours', '8', 'ship', 'uesday', 'lisa', 'gu', 'self', 'ick', '_', 'preferred', '28', 'ars', 'joy', 'march', 'rip', 'cus', 'ves', 'york', 'wome', '.....', 'bass', 'seem', '26', 'dia', '77002', 'pro', 'bre', 'fyi', 'ook', 'audie', 'ics', 'loca', 'due', 'research', 'ries', 'kid', 'discuss', 'says', 'local', 'facili', 'sugges', 'corpora', 'voice', 'exci', 'correc', 'ua', '%', '-origi', 'husba', 'shall', 'secre', 'mk', 'dus', 'roma', 'per', 'kids', 'volved', 'bar', 'ric', 's_', 'favori', 'usi', 'opi', 'scheduli', 'possible', 'summer', 'sc_id', 'des', '29', '..', 'address', 'effor', 'eeds', 's_da', 'shirley', 'error', 'pay', 'recomme', 'face', 'leave', '99', 'du', 'becomes', 'evil', 'ue', '9', 'eas', 'kevi', 'hompso', 'remi', 'oppor', 'usual', 'cial', 'regardi', 'seque', 'childre', 'ered', 'wal', 'epha', 'rou', 'expe', 'erm', 'compu', 'fre', 'access', 'behi', 'bea', 'drama', 'fro', 'derful', 'ches', 'bur', 'provide', 'lead', 'fur', 'livi', 'messages', 'issue', 'ives', 'upid', 'boo', 'fide', 'career', 'jim', 'yle', 'whose', 'les', 'kslaw.com', 'police', 'gave', '713-646-3490', 'hourahead', 'rade', 'clark', 'urbi', 'upo', 'program', 'appare', 'iza', 'developme', '31', 'dog', 'murder', 'commi', 'symes', 'feeli', 'mu', 'foo', 'icle', '713', 'exac', 'buy', 'gives', 'poor', 'experie', 'hell', 'lives', 'die', 'ifica', 'problems', 'oc', 'regards', 'log', 'sex', 'assis', 'class', 'ically', 'fas', 'spor', 'sec', 'load', '\\\\por', 'd\\\\wes', 'desk\\\\califor', 'g\\\\iso', 'os', 'urday', 'pai', 'clude', 'ala', 'via', 'pare', 'wea', 'dear', 'dark', 'ress', 'amou', 'sha', 'five', 'public', 'arra', 'word', 'apprecia', 'hur', 'killed', 'red', 'jacoby', 'mou', 'refere', 'rea', 'fw', 'harry', 'millio', 'classic', 'simply', 'imagi', 'dvd', 'bra', 'ore', 'remai', 'process', 'december', 'killer', 'body', 'har', 'spo', 'service', 'page', 'kill', 'sio', 'despi', 'icke', 'okay', 'ay', 'bir', 'cri', 'associa', 'episode', 'basically', 'guage', 'ball', 'purchase', 'heri', 'hor', 'dr', 'blood', 'amo', 'earlier', 'poli', 'add', 'vkami', 'led', 'bori', 'across', 'liked', 'hollywood', 'schedules', 'child', 'davis', 'jaso', 'joyed', 'ural', 'space']\n",
            "nick ( kevin anderson ) goes back to his hometown to take care of his dying mother ( kim novak ) . there he encounters an old college buddy ( bill pullman ) and his beautiful wife ( pamela gidley ) . he also gets involved with a 40 year old sex murder that may have something to do with him . . . i caught this in a theatre back in 1991 . it was part of the boston film festival and i had heard it had some incredibly beautiful cinematography . well - - it does . it just does n't have much of a story to go with it . also the film moves so slowly - - i literally fell asleep ! seeing it again 14 years later , i fell asleep again ! this film is dull and slow . it 's one of those art films full of strange characters who act oddly and mutter obscure dialogue ( especially the police\n"
          ]
        }
      ]
    },
    {
      "cell_type": "markdown",
      "metadata": {
        "id": "yo3REjQwhGU_"
      },
      "source": [
        "# Define Language Model"
      ]
    },
    {
      "cell_type": "code",
      "execution_count": null,
      "metadata": {
        "id": "iRj2twAchU33"
      },
      "outputs": [],
      "source": []
    },
    {
      "cell_type": "markdown",
      "metadata": {
        "id": "PyEe9fxZhKad"
      },
      "source": [
        "# Train Model"
      ]
    },
    {
      "cell_type": "code",
      "execution_count": null,
      "metadata": {
        "id": "4xylsLNIhVLd"
      },
      "outputs": [],
      "source": []
    },
    {
      "cell_type": "markdown",
      "metadata": {
        "id": "oHHs6mBehNBR"
      },
      "source": [
        "# Save Model"
      ]
    },
    {
      "cell_type": "code",
      "execution_count": null,
      "metadata": {
        "id": "r_EptFJXhVyf"
      },
      "outputs": [],
      "source": []
    }
  ],
  "metadata": {
    "colab": {
      "provenance": [],
      "include_colab_link": true
    },
    "kernelspec": {
      "display_name": "Python 3",
      "name": "python3"
    },
    "language_info": {
      "name": "python"
    }
  },
  "nbformat": 4,
  "nbformat_minor": 0
}