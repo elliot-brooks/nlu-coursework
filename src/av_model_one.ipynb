{
  "cells": [
    {
      "cell_type": "markdown",
      "metadata": {
        "id": "view-in-github",
        "colab_type": "text"
      },
      "source": [
        "<a href=\"https://colab.research.google.com/github/elliot-brooks/nlu-coursework/blob/main/src/av_model_one.ipynb\" target=\"_parent\"><img src=\"https://colab.research.google.com/assets/colab-badge.svg\" alt=\"Open In Colab\"/></a>"
      ]
    },
    {
      "cell_type": "markdown",
      "metadata": {
        "id": "YX1sFbdQgv_W"
      },
      "source": [
        "# Setup"
      ]
    },
    {
      "cell_type": "code",
      "execution_count": 22,
      "metadata": {
        "id": "gwaoFym8guws"
      },
      "outputs": [],
      "source": [
        "import numpy as np\n",
        "import pandas as pd\n",
        "\n",
        "FIRST_PAIR = 0\n",
        "SECOND_PAIR = 1"
      ]
    },
    {
      "cell_type": "markdown",
      "metadata": {
        "id": "vd7312r4g-Fs"
      },
      "source": [
        "# Load training data"
      ]
    },
    {
      "cell_type": "code",
      "execution_count": 23,
      "metadata": {
        "id": "pvOX2Y9chCJ6",
        "outputId": "7f11efe6-636b-4e31-c67b-fcd6ba294629",
        "colab": {
          "base_uri": "https://localhost:8080/"
        }
      },
      "outputs": [
        {
          "output_type": "stream",
          "name": "stdout",
          "text": [
            "Nick ( Kevin Anderson ) goes back to his hometown to take care of his dying mother ( Kim Novak ) . There he encounters an old college buddy ( Bill Pullman ) and his beautiful wife ( Pamela Gidley ) . He also gets involved with a 40 year old sex murder that may have something to do with him . . . I caught this in a theatre back in 1991 . It was part of the Boston Film Festival and I had heard it had some incredibly beautiful cinematography . Well - - it does . It just doesn't have much of a story to go with it . Also the film moves so SLOWLY - - I literally fell asleep ! Seeing it again 14 years later , I fell asleep AGAIN ! This film is dull and slow . It's one of those art films full of strange characters who act oddly and mutter obscure dialogue ( especially the police\n",
            "Bank clerk Miles Cullen ( Elliott Gould ) is robbed at the bank by psycho Harry Reike ( Christopher Plummer ) . Cullen uses the robbery as a cover to take a few thousand dollars for himself . But Reike discovers that and wants it for himself . What follows is a cat and mouse game between Cullen and Reike with a few twists and turns . Well-made suspense movie . It's well-directed and scored but the script has problems . Some of the twists and turns are predictable ( I know who Celine Lomez's character was from almost the get go ) and improbable . Also the female characters played by Lomez and Susannah York are totally wasted . They're just there to play the women for the men to use . This film belongs to Plummer and Gould . Gould is just OK . I never thought he was much of an\n",
            "1\n"
          ]
        }
      ],
      "source": [
        "training_corpus = pd.read_csv(\"train.csv\", encoding='utf-8')\n",
        "pairwise_labels = np.array(training_corpus['label'])\n",
        "pairwise_data = np.array(training_corpus[['text_1', 'text_2']])\n",
        "\n",
        "print(pairwise_data[0][FIRST_PAIR])\n",
        "print(pairwise_data[0][SECOND_PAIR])\n",
        "print(pairwise_labels[0])"
      ]
    },
    {
      "cell_type": "markdown",
      "metadata": {
        "id": "-h7JHjvThCjX"
      },
      "source": [
        "# Pre-process training data"
      ]
    },
    {
      "cell_type": "code",
      "execution_count": null,
      "metadata": {
        "id": "tQCBFdCvhUit"
      },
      "outputs": [],
      "source": []
    },
    {
      "cell_type": "markdown",
      "metadata": {
        "id": "yo3REjQwhGU_"
      },
      "source": [
        "# Define Language Model"
      ]
    },
    {
      "cell_type": "code",
      "execution_count": null,
      "metadata": {
        "id": "iRj2twAchU33"
      },
      "outputs": [],
      "source": []
    },
    {
      "cell_type": "markdown",
      "metadata": {
        "id": "PyEe9fxZhKad"
      },
      "source": [
        "# Train Model"
      ]
    },
    {
      "cell_type": "code",
      "execution_count": null,
      "metadata": {
        "id": "4xylsLNIhVLd"
      },
      "outputs": [],
      "source": []
    },
    {
      "cell_type": "markdown",
      "metadata": {
        "id": "oHHs6mBehNBR"
      },
      "source": [
        "# Save Model"
      ]
    },
    {
      "cell_type": "code",
      "execution_count": null,
      "metadata": {
        "id": "r_EptFJXhVyf"
      },
      "outputs": [],
      "source": []
    }
  ],
  "metadata": {
    "colab": {
      "provenance": [],
      "include_colab_link": true
    },
    "kernelspec": {
      "display_name": "Python 3",
      "name": "python3"
    },
    "language_info": {
      "name": "python"
    }
  },
  "nbformat": 4,
  "nbformat_minor": 0
}