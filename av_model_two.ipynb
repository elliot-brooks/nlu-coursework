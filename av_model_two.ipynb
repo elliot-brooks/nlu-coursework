{
  "nbformat": 4,
  "nbformat_minor": 0,
  "metadata": {
    "colab": {
      "provenance": [],
      "authorship_tag": "ABX9TyPekrPC8hRmhVPl6ATNRoiD",
      "include_colab_link": true
    },
    "kernelspec": {
      "name": "python3",
      "display_name": "Python 3"
    },
    "language_info": {
      "name": "python"
    }
  },
  "cells": [
    {
      "cell_type": "markdown",
      "metadata": {
        "id": "view-in-github",
        "colab_type": "text"
      },
      "source": [
        "<a href=\"https://colab.research.google.com/github/elliot-brooks/nlu-coursework/blob/main/av_model_two.ipynb\" target=\"_parent\"><img src=\"https://colab.research.google.com/assets/colab-badge.svg\" alt=\"Open In Colab\"/></a>"
      ]
    },
    {
      "cell_type": "markdown",
      "source": [
        "# Setup"
      ],
      "metadata": {
        "id": "YX1sFbdQgv_W"
      }
    },
    {
      "cell_type": "code",
      "execution_count": null,
      "metadata": {
        "id": "gwaoFym8guws"
      },
      "outputs": [],
      "source": []
    },
    {
      "cell_type": "markdown",
      "source": [
        "# Load training + dev data"
      ],
      "metadata": {
        "id": "vd7312r4g-Fs"
      }
    },
    {
      "cell_type": "code",
      "source": [],
      "metadata": {
        "id": "pvOX2Y9chCJ6"
      },
      "execution_count": null,
      "outputs": []
    },
    {
      "cell_type": "markdown",
      "source": [
        "# Pre-process training data"
      ],
      "metadata": {
        "id": "-h7JHjvThCjX"
      }
    },
    {
      "cell_type": "code",
      "source": [],
      "metadata": {
        "id": "tQCBFdCvhUit"
      },
      "execution_count": null,
      "outputs": []
    },
    {
      "cell_type": "markdown",
      "source": [
        "# Define Language Model"
      ],
      "metadata": {
        "id": "yo3REjQwhGU_"
      }
    },
    {
      "cell_type": "code",
      "source": [],
      "metadata": {
        "id": "iRj2twAchU33"
      },
      "execution_count": null,
      "outputs": []
    },
    {
      "cell_type": "markdown",
      "source": [
        "# Train Model"
      ],
      "metadata": {
        "id": "PyEe9fxZhKad"
      }
    },
    {
      "cell_type": "code",
      "source": [],
      "metadata": {
        "id": "4xylsLNIhVLd"
      },
      "execution_count": null,
      "outputs": []
    },
    {
      "cell_type": "markdown",
      "source": [
        "# Save Model"
      ],
      "metadata": {
        "id": "oHHs6mBehNBR"
      }
    },
    {
      "cell_type": "code",
      "source": [],
      "metadata": {
        "id": "r_EptFJXhVyf"
      },
      "execution_count": null,
      "outputs": []
    },
    {
      "cell_type": "markdown",
      "source": [
        "# Apply Model to dev data\n"
      ],
      "metadata": {
        "id": "24wBMCFFhO_0"
      }
    },
    {
      "cell_type": "code",
      "source": [],
      "metadata": {
        "id": "MbujGnfbhWE5"
      },
      "execution_count": null,
      "outputs": []
    }
  ]
}